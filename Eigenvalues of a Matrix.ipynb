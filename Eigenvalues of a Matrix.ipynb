{
 "cells": [
  {
   "cell_type": "code",
   "execution_count": 1,
   "metadata": {},
   "outputs": [],
   "source": [
    "from __future__ import annotations\n",
    "\n",
    "\n",
    "def calculate_eigenvalues(matrix: list[list[float | int]]) -> list[float]:\n",
    "    matrix_tr = matrix[0][0] + matrix[1][1]\n",
    "    matrix_det = matrix[0][0] * matrix[1][1] - matrix[0][1] * matrix[1][0]\n",
    "    descriminant = matrix_tr**2 - 4 * matrix_det\n",
    "    return [(matrix_tr + descriminant**0.5) / 2, (matrix_tr - descriminant**0.5) / 2]"
   ]
  },
  {
   "cell_type": "code",
   "execution_count": 2,
   "metadata": {},
   "outputs": [
    {
     "data": {
      "text/plain": [
       "[3.0, 1.0]"
      ]
     },
     "execution_count": 2,
     "metadata": {},
     "output_type": "execute_result"
    }
   ],
   "source": [
    "matrix = [[2, 1], [1, 2]]\n",
    "calculate_eigenvalues(matrix)"
   ]
  }
 ],
 "metadata": {
  "kernelspec": {
   "display_name": "Python 3",
   "language": "python",
   "name": "python3"
  },
  "language_info": {
   "codemirror_mode": {
    "name": "ipython",
    "version": 3
   },
   "file_extension": ".py",
   "mimetype": "text/x-python",
   "name": "python",
   "nbconvert_exporter": "python",
   "pygments_lexer": "ipython3",
   "version": "3.12.3"
  }
 },
 "nbformat": 4,
 "nbformat_minor": 2
}
