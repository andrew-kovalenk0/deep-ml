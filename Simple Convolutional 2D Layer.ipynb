{
 "cells": [
  {
   "cell_type": "code",
   "execution_count": 109,
   "metadata": {},
   "outputs": [],
   "source": [
    "from __future__ import annotations\n",
    "\n",
    "import numpy as np"
   ]
  },
  {
   "cell_type": "code",
   "execution_count": 112,
   "metadata": {},
   "outputs": [],
   "source": [
    "input_matrix = np.array([\n",
    "    [1., 2., 3., 4., 5.],\n",
    "    [6., 7., 8., 9., 10.],\n",
    "    [11., 12., 13., 14., 15.],\n",
    "    [16., 17., 18., 19., 20.],\n",
    "    [21., 22., 23., 24., 25.],\n",
    "])\n",
    "kernel = np.array([\n",
    "    [.5, 3.2],\n",
    "    [1., -1.],\n",
    "])\n",
    "padding, stride = 2, 2"
   ]
  },
  {
   "cell_type": "code",
   "execution_count": 113,
   "metadata": {},
   "outputs": [],
   "source": [
    "def simple_conv2d(input_matrix: np.ndarray,\n",
    "                  kernel: np.ndarray,\n",
    "                  padding: int,\n",
    "                  stride: int) -> np.ndarray:\n",
    "    input_padded_matrix = np.pad(input_matrix, (padding,padding))\n",
    "    input_padded_height, input_padded_width = input_padded_matrix.shape\n",
    "    kernel_height, kernel_width = kernel.shape\n",
    "    output_height = int((input_padded_height - kernel_height) / stride + 1)\n",
    "    output_width = int((input_padded_width - kernel_width) / stride + 1)\n",
    "    output_matrix = np.empty((output_height, output_width))\n",
    "    for i in range(0, input_padded_height // 2 * 2, stride):\n",
    "        for j in range(0, input_padded_width // 2 * 2, stride):\n",
    "            output_matrix[int(i / stride)][int(j / stride)] =  np.sum(\n",
    "                kernel * input_padded_matrix[i: i + kernel_height, j: j + kernel_width])\n",
    "    return output_matrix"
   ]
  },
  {
   "cell_type": "code",
   "execution_count": 114,
   "metadata": {},
   "outputs": [
    {
     "data": {
      "text/plain": [
       "array([[ 0. ,  0. ,  0. ,  0. ],\n",
       "       [ 0. ,  5.9, 13.3, 12.5],\n",
       "       [ 0. , 42.9, 50.3, 27.5],\n",
       "       [ 0. , 80.9, 88.3, 12.5]])"
      ]
     },
     "execution_count": 114,
     "metadata": {},
     "output_type": "execute_result"
    }
   ],
   "source": [
    "simple_conv2d(input_matrix, kernel, padding, stride)"
   ]
  }
 ],
 "metadata": {
  "kernelspec": {
   "display_name": "Python 3",
   "language": "python",
   "name": "python3"
  },
  "language_info": {
   "codemirror_mode": {
    "name": "ipython",
    "version": 3
   },
   "file_extension": ".py",
   "mimetype": "text/x-python",
   "name": "python",
   "nbconvert_exporter": "python",
   "pygments_lexer": "ipython3",
   "version": "3.12.4"
  }
 },
 "nbformat": 4,
 "nbformat_minor": 2
}
