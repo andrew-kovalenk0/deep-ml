{
 "cells": [
  {
   "cell_type": "code",
   "execution_count": 22,
   "metadata": {},
   "outputs": [],
   "source": [
    "from __future__ import annotations\n",
    "\n",
    "\n",
    "def calculate_covariance_matrix(vectors: list[list[float]]) -> list[list[float]]:\n",
    "    vectors_mean = [sum(vector) / len(vector) for vector in vectors]\n",
    "    cov_matrix = []\n",
    "    n_vectors = len(vectors)\n",
    "    vector_len = len(vectors[0])\n",
    "    for i in range(n_vectors):\n",
    "        cov_matrix.append([])\n",
    "        for j in range(n_vectors):\n",
    "            cov_matrix[i].append(\n",
    "                sum(\n",
    "                    [\n",
    "                        (vectors[i][k] - vectors_mean[i])\n",
    "                        * (vectors[j][k] - vectors_mean[j])\n",
    "                        for k in range(vector_len)\n",
    "                    ]\n",
    "                )\n",
    "                / (vector_len - 1)\n",
    "            )\n",
    "    return cov_matrix"
   ]
  },
  {
   "cell_type": "code",
   "execution_count": 23,
   "metadata": {},
   "outputs": [
    {
     "data": {
      "text/plain": [
       "[[1.0, 1.0], [1.0, 1.0]]"
      ]
     },
     "execution_count": 23,
     "metadata": {},
     "output_type": "execute_result"
    }
   ],
   "source": [
    "vectors = [[1, 2, 3], [4, 5, 6]]\n",
    "calculate_covariance_matrix(vectors)"
   ]
  }
 ],
 "metadata": {
  "kernelspec": {
   "display_name": "Python 3",
   "language": "python",
   "name": "python3"
  },
  "language_info": {
   "codemirror_mode": {
    "name": "ipython",
    "version": 3
   },
   "file_extension": ".py",
   "mimetype": "text/x-python",
   "name": "python",
   "nbconvert_exporter": "python",
   "pygments_lexer": "ipython3",
   "version": "3.12.3"
  }
 },
 "nbformat": 4,
 "nbformat_minor": 2
}
