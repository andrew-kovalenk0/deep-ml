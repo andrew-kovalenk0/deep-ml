{
 "cells": [
  {
   "cell_type": "code",
   "execution_count": 5,
   "metadata": {},
   "outputs": [],
   "source": [
    "from __future__ import annotations\n",
    "\n",
    "import numpy as np\n",
    "\n",
    "\n",
    "def transform_matrix(\n",
    "    A: list[list[int | float]], T: list[list[int | float]], S: list[list[int | float]]\n",
    ") -> list[list[int | float]]:\n",
    "    if (np.linalg.det(T) == 0) | (np.linalg.det(S) == 0):\n",
    "        return -1\n",
    "    return np.linalg.inv(T) @ A @ S"
   ]
  },
  {
   "cell_type": "code",
   "execution_count": 6,
   "metadata": {},
   "outputs": [
    {
     "data": {
      "text/plain": [
       "array([[0.5, 1.5],\n",
       "       [1.5, 3.5]])"
      ]
     },
     "execution_count": 6,
     "metadata": {},
     "output_type": "execute_result"
    }
   ],
   "source": [
    "A = [[1, 2], [3, 4]]\n",
    "T = [[2, 0], [0, 2]]\n",
    "S = [[1, 1], [0, 1]]\n",
    "transform_matrix(A, T, S)"
   ]
  }
 ],
 "metadata": {
  "kernelspec": {
   "display_name": "Python 3",
   "language": "python",
   "name": "python3"
  },
  "language_info": {
   "codemirror_mode": {
    "name": "ipython",
    "version": 3
   },
   "file_extension": ".py",
   "mimetype": "text/x-python",
   "name": "python",
   "nbconvert_exporter": "python",
   "pygments_lexer": "ipython3",
   "version": "3.12.3"
  }
 },
 "nbformat": 4,
 "nbformat_minor": 2
}
