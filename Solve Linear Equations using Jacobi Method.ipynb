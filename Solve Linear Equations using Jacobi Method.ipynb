{
 "cells": [
  {
   "cell_type": "code",
   "execution_count": 18,
   "metadata": {},
   "outputs": [],
   "source": [
    "from __future__ import annotations\n",
    "\n",
    "import numpy as np\n",
    "\n",
    "\n",
    "def solve_jacobi(a: np.ndarray, b: np.ndarray, n: int) -> list:\n",
    "    x = np.zeros(len(b))\n",
    "    for _ in range(n):\n",
    "        x = (b - np.sum((a - np.diag(a.diagonal())) * x, axis=1)) / a.diagonal()\n",
    "    return x"
   ]
  },
  {
   "cell_type": "code",
   "execution_count": 19,
   "metadata": {},
   "outputs": [
    {
     "data": {
      "text/plain": [
       "array([ 0.14603175,  0.2031746 , -0.51746032])"
      ]
     },
     "execution_count": 19,
     "metadata": {},
     "output_type": "execute_result"
    }
   ],
   "source": [
    "a = np.array([[5, -2, 3], [-3, 9, 1], [2, -1, -7]])\n",
    "b = np.array([-1, 2, 3])\n",
    "n = 2\n",
    "solve_jacobi(a, b, n)"
   ]
  }
 ],
 "metadata": {
  "kernelspec": {
   "display_name": "Python 3",
   "language": "python",
   "name": "python3"
  },
  "language_info": {
   "codemirror_mode": {
    "name": "ipython",
    "version": 3
   },
   "file_extension": ".py",
   "mimetype": "text/x-python",
   "name": "python",
   "nbconvert_exporter": "python",
   "pygments_lexer": "ipython3",
   "version": "3.12.3"
  }
 },
 "nbformat": 4,
 "nbformat_minor": 2
}
