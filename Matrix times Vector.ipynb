{
 "cells": [
  {
   "cell_type": "code",
   "execution_count": 1,
   "metadata": {},
   "outputs": [],
   "source": [
    "from __future__ import annotations\n",
    "\n",
    "\n",
    "def matrix_dot_vector(a: list[list[int|float]], b: list[int|float])-> list[int|float]:\n",
    "    mult_list = []\n",
    "    if len(a) == len(b):\n",
    "        for i, a_list in enumerate(a):\n",
    "            if len(a_list) == len(b):\n",
    "                mult_list.append(0)\n",
    "                for k, a_value in enumerate(a_list):\n",
    "                    mult_list[i] += a_value * b[k]\n",
    "            else:\n",
    "                return -1\n",
    "        return mult_list\n",
    "    return -1"
   ]
  },
  {
   "cell_type": "code",
   "execution_count": 2,
   "metadata": {},
   "outputs": [
    {
     "data": {
      "text/plain": [
       "[5, 10]"
      ]
     },
     "execution_count": 2,
     "metadata": {},
     "output_type": "execute_result"
    }
   ],
   "source": [
    "a = [[1, 2],[2, 4]]\n",
    "b = [1,2]\n",
    "matrix_dot_vector(a, b)"
   ]
  }
 ],
 "metadata": {
  "kernelspec": {
   "display_name": "Python 3",
   "language": "python",
   "name": "python3"
  },
  "language_info": {
   "codemirror_mode": {
    "name": "ipython",
    "version": 3
   },
   "file_extension": ".py",
   "mimetype": "text/x-python",
   "name": "python",
   "nbconvert_exporter": "python",
   "pygments_lexer": "ipython3",
   "version": "3.12.4"
  }
 },
 "nbformat": 4,
 "nbformat_minor": 2
}
