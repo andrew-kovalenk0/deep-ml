{
 "cells": [
  {
   "cell_type": "code",
   "execution_count": 1,
   "metadata": {},
   "outputs": [],
   "source": [
    "from __future__ import annotations\n",
    "\n",
    "import math"
   ]
  },
  {
   "cell_type": "code",
   "execution_count": 2,
   "metadata": {},
   "outputs": [],
   "source": [
    "def sigmoid(z: float) -> float:\n",
    "     return round(1 / (1 + math.exp(-z)), 4)\n",
    "\n",
    "def single_neuron_model(features: list[list[float]],\n",
    "                        labels: list[int],\n",
    "                        weights: list[float],\n",
    "                        bias: float) -> list[list[float], float]:\n",
    "     predicted_values = []\n",
    "     for feature_list in features:\n",
    "          hold = 0\n",
    "          for feature, weight in zip(feature_list, weights):\n",
    "               hold += feature * weight\n",
    "          predicted_values.append(round(sigmoid(hold + bias), 4))\n",
    "     mse = 0\n",
    "     for predicted_value, label in zip(predicted_values, labels):\n",
    "          mse += (predicted_value - label) ** 2 / len(labels)\n",
    "     return predicted_values, mse"
   ]
  },
  {
   "cell_type": "code",
   "execution_count": 3,
   "metadata": {},
   "outputs": [
    {
     "data": {
      "text/plain": [
       "([0.4626, 0.4134, 0.6682], 0.3348631866666667)"
      ]
     },
     "execution_count": 3,
     "metadata": {},
     "output_type": "execute_result"
    }
   ],
   "source": [
    "features = [[0.5, 1.0], [-1.5, -2.0], [2.0, 1.5]]\n",
    "labels = [0, 1, 0]\n",
    "weights = [0.7, -0.4]\n",
    "bias = -0.1\n",
    "\n",
    "single_neuron_model(features, labels, weights, bias)"
   ]
  }
 ],
 "metadata": {
  "kernelspec": {
   "display_name": "Python 3",
   "language": "python",
   "name": "python3"
  },
  "language_info": {
   "codemirror_mode": {
    "name": "ipython",
    "version": 3
   },
   "file_extension": ".py",
   "mimetype": "text/x-python",
   "name": "python",
   "nbconvert_exporter": "python",
   "pygments_lexer": "ipython3",
   "version": "3.12.4"
  }
 },
 "nbformat": 4,
 "nbformat_minor": 2
}
