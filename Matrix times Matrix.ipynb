{
 "cells": [
  {
   "cell_type": "code",
   "execution_count": 3,
   "metadata": {},
   "outputs": [],
   "source": [
    "from __future__ import annotations\n",
    "\n",
    "\n",
    "def matrixmul(a: list[list[int|float]],\n",
    "              b: list[list[int|float]])-> list[list[int|float]]:\n",
    "    mult_matrix = []\n",
    "    if len(a[0]) != len(b):\n",
    "        return -1\n",
    "    for i in range(len(a)):\n",
    "        mult_matrix.append([])\n",
    "        for j in range(len(b[0])):\n",
    "            mult_matrix[i].append(0)\n",
    "            for k in range(len(a[i])):\n",
    "                mult_matrix[i][j] += a[i][k] * b[k][j]\n",
    "    return mult_matrix\n"
   ]
  },
  {
   "cell_type": "code",
   "execution_count": 4,
   "metadata": {},
   "outputs": [
    {
     "data": {
      "text/plain": [
       "[[8, 9, 17], [16, 18, 34]]"
      ]
     },
     "execution_count": 4,
     "metadata": {},
     "output_type": "execute_result"
    }
   ],
   "source": [
    "a = [[1, 2], [2, 4]]\n",
    "b = [[2, 1, 5],\n",
    "     [3, 4, 6]]\n",
    "matrixmul(a, b)"
   ]
  }
 ],
 "metadata": {
  "kernelspec": {
   "display_name": "Python 3",
   "language": "python",
   "name": "python3"
  },
  "language_info": {
   "codemirror_mode": {
    "name": "ipython",
    "version": 3
   },
   "file_extension": ".py",
   "mimetype": "text/x-python",
   "name": "python",
   "nbconvert_exporter": "python",
   "pygments_lexer": "ipython3",
   "version": "3.12.4"
  }
 },
 "nbformat": 4,
 "nbformat_minor": 2
}
