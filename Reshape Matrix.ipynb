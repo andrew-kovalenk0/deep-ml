{
 "cells": [
  {
   "cell_type": "code",
   "execution_count": 3,
   "metadata": {},
   "outputs": [],
   "source": [
    "from __future__ import annotations\n",
    "\n",
    "\n",
    "def reshape_matrix(\n",
    "    a: list[list[int | float]], new_shape: tuple[int, int]\n",
    ") -> list[list[int | float]]:\n",
    "    reshaped_matrix = []\n",
    "    flatten_a = [item for sublist in a for item in sublist]\n",
    "    for i in range(new_shape[0]):\n",
    "        reshaped_matrix.append([])\n",
    "        for j in range(new_shape[1]):\n",
    "            reshaped_matrix[i].append(flatten_a[i * new_shape[1] + j])\n",
    "    return reshaped_matrix"
   ]
  },
  {
   "cell_type": "code",
   "execution_count": 4,
   "metadata": {},
   "outputs": [
    {
     "data": {
      "text/plain": [
       "[[1, 2], [3, 4], [5, 6], [7, 8]]"
      ]
     },
     "execution_count": 4,
     "metadata": {},
     "output_type": "execute_result"
    }
   ],
   "source": [
    "a = [[1, 2, 3, 4], [5, 6, 7, 8]]\n",
    "new_shape = (4, 2)\n",
    "reshape_matrix(a, new_shape)"
   ]
  }
 ],
 "metadata": {
  "kernelspec": {
   "display_name": "Python 3",
   "language": "python",
   "name": "python3"
  },
  "language_info": {
   "codemirror_mode": {
    "name": "ipython",
    "version": 3
   },
   "file_extension": ".py",
   "mimetype": "text/x-python",
   "name": "python",
   "nbconvert_exporter": "python",
   "pygments_lexer": "ipython3",
   "version": "3.12.3"
  }
 },
 "nbformat": 4,
 "nbformat_minor": 2
}
