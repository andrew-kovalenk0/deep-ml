{
 "cells": [
  {
   "cell_type": "code",
   "execution_count": 1,
   "metadata": {},
   "outputs": [],
   "source": [
    "from __future__ import annotations\n",
    "\n",
    "import numpy as np"
   ]
  },
  {
   "cell_type": "code",
   "execution_count": 2,
   "metadata": {},
   "outputs": [],
   "source": [
    "features = np.array([np.array ([1.0, 2.0]), np.array([2.0, 1.0]), np.array([-1.0, -2.0])])\n",
    "labels = np.array([1,0,0])\n",
    "initial_weights = np.array ([0.1, -0.2])\n",
    "initial_bias = 0.0\n",
    "learning_rate = 0.1\n",
    "epochs = 10"
   ]
  },
  {
   "cell_type": "code",
   "execution_count": 3,
   "metadata": {},
   "outputs": [],
   "source": [
    "def sigmoid(values_array: np.ndarray) -> np.ndarray:\n",
    "    return 1 / (1 + np.exp(-1 * values_array))\n",
    "\n",
    "def mse(values_array: np.ndarray, labels_array: np.ndarray) -> float:\n",
    "    return ((values_array - labels_array) ** 2).sum() / values_array.shape[0]\n",
    "\n",
    "def train_neuron (\n",
    "    features: np.ndarray,\n",
    "    labels: np.ndarray,\n",
    "    initial_weights: np.ndarray,\n",
    "    initial_bias: float,\n",
    "    learning_rate: float,\n",
    "    epochs: int) -> list[np.ndarray, float, list]:\n",
    "    x = initial_weights\n",
    "    bias = initial_bias\n",
    "    mse_list = []\n",
    "    for _ in range(epochs):\n",
    "        #Computing neuron outpu\n",
    "        z = features @ x + bias\n",
    "        a = sigmoid(z)\n",
    "        #Computing MSE\n",
    "        mse_list.append(mse(a, labels))\n",
    "        #Computing partial derivatives\n",
    "        dx = -2 / labels.shape[0] * (a - labels) * (a - 1) * a @ features\n",
    "        dw = -2 / labels.shape[0] * ((a - labels) * (a -1) * a).sum()\n",
    "        #Performing gradient descent step\n",
    "        x -= learning_rate * dx\n",
    "        bias -= learning_rate * dw\n",
    "    return x.tolist(), bias, mse_list"
   ]
  },
  {
   "cell_type": "code",
   "execution_count": 4,
   "metadata": {},
   "outputs": [
    {
     "data": {
      "text/plain": [
       "([0.09644324985221846, 0.0532886591138437],\n",
       " -0.0835777037885968,\n",
       " [0.3033228034139421,\n",
       "  0.2942232621822798,\n",
       "  0.28558133945119507,\n",
       "  0.2774071764961471,\n",
       "  0.26970056278816107,\n",
       "  0.2624525701137394,\n",
       "  0.2556473456548066,\n",
       "  0.24926389449754996,\n",
       "  0.24327772692027097,\n",
       "  0.2376622928253055])"
      ]
     },
     "execution_count": 4,
     "metadata": {},
     "output_type": "execute_result"
    }
   ],
   "source": [
    "train_neuron(features, labels, initial_weights, initial_bias, learning_rate, epochs)"
   ]
  }
 ],
 "metadata": {
  "kernelspec": {
   "display_name": "Python 3",
   "language": "python",
   "name": "python3"
  },
  "language_info": {
   "codemirror_mode": {
    "name": "ipython",
    "version": 3
   },
   "file_extension": ".py",
   "mimetype": "text/x-python",
   "name": "python",
   "nbconvert_exporter": "python",
   "pygments_lexer": "ipython3",
   "version": "3.12.4"
  }
 },
 "nbformat": 4,
 "nbformat_minor": 2
}
